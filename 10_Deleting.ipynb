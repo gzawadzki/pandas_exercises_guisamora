{
  "nbformat": 4,
  "nbformat_minor": 0,
  "metadata": {
    "kernelspec": {
      "display_name": "Python [default]",
      "language": "python",
      "name": "python2"
    },
    "language_info": {
      "codemirror_mode": {
        "name": "ipython",
        "version": 2
      },
      "file_extension": ".py",
      "mimetype": "text/x-python",
      "name": "python",
      "nbconvert_exporter": "python",
      "pygments_lexer": "ipython2",
      "version": "2.7.12"
    },
    "colab": {
      "name": "10_Deleting.ipynb",
      "provenance": [],
      "include_colab_link": true
    }
  },
  "cells": [
    {
      "cell_type": "markdown",
      "metadata": {
        "id": "view-in-github",
        "colab_type": "text"
      },
      "source": [
        "<a href=\"https://colab.research.google.com/github/gzawadzki/pandas_exercises_guisamora/blob/main/10_Deleting.ipynb\" target=\"_parent\"><img src=\"https://colab.research.google.com/assets/colab-badge.svg\" alt=\"Open In Colab\"/></a>"
      ]
    },
    {
      "cell_type": "markdown",
      "metadata": {
        "id": "PH3Lf9aGjVtK"
      },
      "source": [
        "# Wine"
      ]
    },
    {
      "cell_type": "markdown",
      "metadata": {
        "id": "oHJMWh18jVtM"
      },
      "source": [
        "### Introduction:\n",
        "\n",
        "This exercise is a adaptation from the UCI Wine dataset.\n",
        "The only pupose is to practice deleting data with pandas.\n",
        "\n",
        "### Step 1. Import the necessary libraries"
      ]
    },
    {
      "cell_type": "code",
      "metadata": {
        "id": "M40Ve2G5jVtM"
      },
      "source": [
        "import pandas as pd\n",
        "import numpy as np\n"
      ],
      "execution_count": null,
      "outputs": []
    },
    {
      "cell_type": "markdown",
      "metadata": {
        "id": "0ccn9UYpjVtN"
      },
      "source": [
        "### Step 2. Import the dataset from this [address](https://archive.ics.uci.edu/ml/machine-learning-databases/wine/wine.data). "
      ]
    },
    {
      "cell_type": "code",
      "metadata": {
        "id": "wQG2lAIRjdp-"
      },
      "source": [
        "url = 'https://archive.ics.uci.edu/ml/machine-learning-databases/wine/wine.data'"
      ],
      "execution_count": null,
      "outputs": []
    },
    {
      "cell_type": "markdown",
      "metadata": {
        "id": "0DNbolaXjVtN"
      },
      "source": [
        "### Step 3. Assign it to a variable called wine"
      ]
    },
    {
      "cell_type": "code",
      "metadata": {
        "id": "FVd0xIqgjVtO",
        "colab": {
          "base_uri": "https://localhost:8080/",
          "height": 204
        },
        "outputId": "98217b9e-7460-4456-e8ca-e29c75c8aa96"
      },
      "source": [
        "cols = np.arange(1,15)\n",
        "wine = pd.read_csv(url, names = cols)\n",
        "wine.head()"
      ],
      "execution_count": null,
      "outputs": [
        {
          "output_type": "execute_result",
          "data": {
            "text/html": [
              "<div>\n",
              "<style scoped>\n",
              "    .dataframe tbody tr th:only-of-type {\n",
              "        vertical-align: middle;\n",
              "    }\n",
              "\n",
              "    .dataframe tbody tr th {\n",
              "        vertical-align: top;\n",
              "    }\n",
              "\n",
              "    .dataframe thead th {\n",
              "        text-align: right;\n",
              "    }\n",
              "</style>\n",
              "<table border=\"1\" class=\"dataframe\">\n",
              "  <thead>\n",
              "    <tr style=\"text-align: right;\">\n",
              "      <th></th>\n",
              "      <th>1</th>\n",
              "      <th>2</th>\n",
              "      <th>3</th>\n",
              "      <th>4</th>\n",
              "      <th>5</th>\n",
              "      <th>6</th>\n",
              "      <th>7</th>\n",
              "      <th>8</th>\n",
              "      <th>9</th>\n",
              "      <th>10</th>\n",
              "      <th>11</th>\n",
              "      <th>12</th>\n",
              "      <th>13</th>\n",
              "      <th>14</th>\n",
              "    </tr>\n",
              "  </thead>\n",
              "  <tbody>\n",
              "    <tr>\n",
              "      <th>0</th>\n",
              "      <td>1</td>\n",
              "      <td>14.23</td>\n",
              "      <td>1.71</td>\n",
              "      <td>2.43</td>\n",
              "      <td>15.6</td>\n",
              "      <td>127</td>\n",
              "      <td>2.80</td>\n",
              "      <td>3.06</td>\n",
              "      <td>0.28</td>\n",
              "      <td>2.29</td>\n",
              "      <td>5.64</td>\n",
              "      <td>1.04</td>\n",
              "      <td>3.92</td>\n",
              "      <td>1065</td>\n",
              "    </tr>\n",
              "    <tr>\n",
              "      <th>1</th>\n",
              "      <td>1</td>\n",
              "      <td>13.20</td>\n",
              "      <td>1.78</td>\n",
              "      <td>2.14</td>\n",
              "      <td>11.2</td>\n",
              "      <td>100</td>\n",
              "      <td>2.65</td>\n",
              "      <td>2.76</td>\n",
              "      <td>0.26</td>\n",
              "      <td>1.28</td>\n",
              "      <td>4.38</td>\n",
              "      <td>1.05</td>\n",
              "      <td>3.40</td>\n",
              "      <td>1050</td>\n",
              "    </tr>\n",
              "    <tr>\n",
              "      <th>2</th>\n",
              "      <td>1</td>\n",
              "      <td>13.16</td>\n",
              "      <td>2.36</td>\n",
              "      <td>2.67</td>\n",
              "      <td>18.6</td>\n",
              "      <td>101</td>\n",
              "      <td>2.80</td>\n",
              "      <td>3.24</td>\n",
              "      <td>0.30</td>\n",
              "      <td>2.81</td>\n",
              "      <td>5.68</td>\n",
              "      <td>1.03</td>\n",
              "      <td>3.17</td>\n",
              "      <td>1185</td>\n",
              "    </tr>\n",
              "    <tr>\n",
              "      <th>3</th>\n",
              "      <td>1</td>\n",
              "      <td>14.37</td>\n",
              "      <td>1.95</td>\n",
              "      <td>2.50</td>\n",
              "      <td>16.8</td>\n",
              "      <td>113</td>\n",
              "      <td>3.85</td>\n",
              "      <td>3.49</td>\n",
              "      <td>0.24</td>\n",
              "      <td>2.18</td>\n",
              "      <td>7.80</td>\n",
              "      <td>0.86</td>\n",
              "      <td>3.45</td>\n",
              "      <td>1480</td>\n",
              "    </tr>\n",
              "    <tr>\n",
              "      <th>4</th>\n",
              "      <td>1</td>\n",
              "      <td>13.24</td>\n",
              "      <td>2.59</td>\n",
              "      <td>2.87</td>\n",
              "      <td>21.0</td>\n",
              "      <td>118</td>\n",
              "      <td>2.80</td>\n",
              "      <td>2.69</td>\n",
              "      <td>0.39</td>\n",
              "      <td>1.82</td>\n",
              "      <td>4.32</td>\n",
              "      <td>1.04</td>\n",
              "      <td>2.93</td>\n",
              "      <td>735</td>\n",
              "    </tr>\n",
              "  </tbody>\n",
              "</table>\n",
              "</div>"
            ],
            "text/plain": [
              "   1      2     3     4     5    6   ...    9     10    11    12    13    14\n",
              "0   1  14.23  1.71  2.43  15.6  127  ...  0.28  2.29  5.64  1.04  3.92  1065\n",
              "1   1  13.20  1.78  2.14  11.2  100  ...  0.26  1.28  4.38  1.05  3.40  1050\n",
              "2   1  13.16  2.36  2.67  18.6  101  ...  0.30  2.81  5.68  1.03  3.17  1185\n",
              "3   1  14.37  1.95  2.50  16.8  113  ...  0.24  2.18  7.80  0.86  3.45  1480\n",
              "4   1  13.24  2.59  2.87  21.0  118  ...  0.39  1.82  4.32  1.04  2.93   735\n",
              "\n",
              "[5 rows x 14 columns]"
            ]
          },
          "metadata": {},
          "execution_count": 30
        }
      ]
    },
    {
      "cell_type": "code",
      "metadata": {
        "colab": {
          "base_uri": "https://localhost:8080/"
        },
        "id": "C02lGUMsm5Qs",
        "outputId": "005eed73-f6e2-4386-bd20-326152999e03"
      },
      "source": [
        "wine.columns"
      ],
      "execution_count": null,
      "outputs": [
        {
          "output_type": "execute_result",
          "data": {
            "text/plain": [
              "Int64Index([1, 2, 3, 4, 5, 6, 7, 8, 9, 10, 11, 12, 13, 14], dtype='int64')"
            ]
          },
          "metadata": {},
          "execution_count": 31
        }
      ]
    },
    {
      "cell_type": "markdown",
      "metadata": {
        "id": "rflEG7K2jVtO"
      },
      "source": [
        "### Step 4. Delete the first, fourth, seventh, nineth, eleventh, thirteenth and fourteenth columns"
      ]
    },
    {
      "cell_type": "code",
      "metadata": {
        "id": "f4kMm9rXjVtP"
      },
      "source": [
        "wine.drop([1, 4, 7, 9, 11, 13, 14], axis=1, inplace=True)"
      ],
      "execution_count": null,
      "outputs": []
    },
    {
      "cell_type": "code",
      "metadata": {
        "colab": {
          "base_uri": "https://localhost:8080/",
          "height": 419
        },
        "id": "RQEso9JenDoi",
        "outputId": "cad5c983-953f-443a-c8cf-751e9dc3bd52"
      },
      "source": [
        "wine"
      ],
      "execution_count": null,
      "outputs": [
        {
          "output_type": "execute_result",
          "data": {
            "text/html": [
              "<div>\n",
              "<style scoped>\n",
              "    .dataframe tbody tr th:only-of-type {\n",
              "        vertical-align: middle;\n",
              "    }\n",
              "\n",
              "    .dataframe tbody tr th {\n",
              "        vertical-align: top;\n",
              "    }\n",
              "\n",
              "    .dataframe thead th {\n",
              "        text-align: right;\n",
              "    }\n",
              "</style>\n",
              "<table border=\"1\" class=\"dataframe\">\n",
              "  <thead>\n",
              "    <tr style=\"text-align: right;\">\n",
              "      <th></th>\n",
              "      <th>2</th>\n",
              "      <th>3</th>\n",
              "      <th>5</th>\n",
              "      <th>6</th>\n",
              "      <th>8</th>\n",
              "      <th>10</th>\n",
              "      <th>12</th>\n",
              "    </tr>\n",
              "  </thead>\n",
              "  <tbody>\n",
              "    <tr>\n",
              "      <th>0</th>\n",
              "      <td>14.23</td>\n",
              "      <td>1.71</td>\n",
              "      <td>15.6</td>\n",
              "      <td>127</td>\n",
              "      <td>3.06</td>\n",
              "      <td>2.29</td>\n",
              "      <td>1.04</td>\n",
              "    </tr>\n",
              "    <tr>\n",
              "      <th>1</th>\n",
              "      <td>13.20</td>\n",
              "      <td>1.78</td>\n",
              "      <td>11.2</td>\n",
              "      <td>100</td>\n",
              "      <td>2.76</td>\n",
              "      <td>1.28</td>\n",
              "      <td>1.05</td>\n",
              "    </tr>\n",
              "    <tr>\n",
              "      <th>2</th>\n",
              "      <td>13.16</td>\n",
              "      <td>2.36</td>\n",
              "      <td>18.6</td>\n",
              "      <td>101</td>\n",
              "      <td>3.24</td>\n",
              "      <td>2.81</td>\n",
              "      <td>1.03</td>\n",
              "    </tr>\n",
              "    <tr>\n",
              "      <th>3</th>\n",
              "      <td>14.37</td>\n",
              "      <td>1.95</td>\n",
              "      <td>16.8</td>\n",
              "      <td>113</td>\n",
              "      <td>3.49</td>\n",
              "      <td>2.18</td>\n",
              "      <td>0.86</td>\n",
              "    </tr>\n",
              "    <tr>\n",
              "      <th>4</th>\n",
              "      <td>13.24</td>\n",
              "      <td>2.59</td>\n",
              "      <td>21.0</td>\n",
              "      <td>118</td>\n",
              "      <td>2.69</td>\n",
              "      <td>1.82</td>\n",
              "      <td>1.04</td>\n",
              "    </tr>\n",
              "    <tr>\n",
              "      <th>...</th>\n",
              "      <td>...</td>\n",
              "      <td>...</td>\n",
              "      <td>...</td>\n",
              "      <td>...</td>\n",
              "      <td>...</td>\n",
              "      <td>...</td>\n",
              "      <td>...</td>\n",
              "    </tr>\n",
              "    <tr>\n",
              "      <th>173</th>\n",
              "      <td>13.71</td>\n",
              "      <td>5.65</td>\n",
              "      <td>20.5</td>\n",
              "      <td>95</td>\n",
              "      <td>0.61</td>\n",
              "      <td>1.06</td>\n",
              "      <td>0.64</td>\n",
              "    </tr>\n",
              "    <tr>\n",
              "      <th>174</th>\n",
              "      <td>13.40</td>\n",
              "      <td>3.91</td>\n",
              "      <td>23.0</td>\n",
              "      <td>102</td>\n",
              "      <td>0.75</td>\n",
              "      <td>1.41</td>\n",
              "      <td>0.70</td>\n",
              "    </tr>\n",
              "    <tr>\n",
              "      <th>175</th>\n",
              "      <td>13.27</td>\n",
              "      <td>4.28</td>\n",
              "      <td>20.0</td>\n",
              "      <td>120</td>\n",
              "      <td>0.69</td>\n",
              "      <td>1.35</td>\n",
              "      <td>0.59</td>\n",
              "    </tr>\n",
              "    <tr>\n",
              "      <th>176</th>\n",
              "      <td>13.17</td>\n",
              "      <td>2.59</td>\n",
              "      <td>20.0</td>\n",
              "      <td>120</td>\n",
              "      <td>0.68</td>\n",
              "      <td>1.46</td>\n",
              "      <td>0.60</td>\n",
              "    </tr>\n",
              "    <tr>\n",
              "      <th>177</th>\n",
              "      <td>14.13</td>\n",
              "      <td>4.10</td>\n",
              "      <td>24.5</td>\n",
              "      <td>96</td>\n",
              "      <td>0.76</td>\n",
              "      <td>1.35</td>\n",
              "      <td>0.61</td>\n",
              "    </tr>\n",
              "  </tbody>\n",
              "</table>\n",
              "<p>178 rows × 7 columns</p>\n",
              "</div>"
            ],
            "text/plain": [
              "        2     3     5    6     8     10    12\n",
              "0    14.23  1.71  15.6  127  3.06  2.29  1.04\n",
              "1    13.20  1.78  11.2  100  2.76  1.28  1.05\n",
              "2    13.16  2.36  18.6  101  3.24  2.81  1.03\n",
              "3    14.37  1.95  16.8  113  3.49  2.18  0.86\n",
              "4    13.24  2.59  21.0  118  2.69  1.82  1.04\n",
              "..     ...   ...   ...  ...   ...   ...   ...\n",
              "173  13.71  5.65  20.5   95  0.61  1.06  0.64\n",
              "174  13.40  3.91  23.0  102  0.75  1.41  0.70\n",
              "175  13.27  4.28  20.0  120  0.69  1.35  0.59\n",
              "176  13.17  2.59  20.0  120  0.68  1.46  0.60\n",
              "177  14.13  4.10  24.5   96  0.76  1.35  0.61\n",
              "\n",
              "[178 rows x 7 columns]"
            ]
          },
          "metadata": {},
          "execution_count": 33
        }
      ]
    },
    {
      "cell_type": "markdown",
      "metadata": {
        "id": "veysUSXVjVtP"
      },
      "source": [
        "### Step 5. Assign the columns as below:\n",
        "\n",
        "The attributes are (donated by Riccardo Leardi, riclea '@' anchem.unige.it):  \n",
        "1) alcohol  \n",
        "2) malic_acid  \n",
        "3) alcalinity_of_ash  \n",
        "4) magnesium  \n",
        "5) flavanoids  \n",
        "6) proanthocyanins  \n",
        "7) hue "
      ]
    },
    {
      "cell_type": "code",
      "metadata": {
        "id": "n8sWg_PKnTK0"
      },
      "source": [
        "c = ['alcohol', 'malic_acid', 'alcalinity_of_ash',\n",
        "     'magnesium', 'falavanoids', 'proanthocyanins', 'hue']"
      ],
      "execution_count": null,
      "outputs": []
    },
    {
      "cell_type": "code",
      "metadata": {
        "id": "TcR6iZyOjVtQ",
        "colab": {
          "base_uri": "https://localhost:8080/",
          "height": 204
        },
        "outputId": "862344fd-92f8-40ea-e482-2615f4326d5d"
      },
      "source": [
        "wine.set_axis(c, inplace = True, axis=1)\n",
        "wine.head()\n"
      ],
      "execution_count": null,
      "outputs": [
        {
          "output_type": "execute_result",
          "data": {
            "text/html": [
              "<div>\n",
              "<style scoped>\n",
              "    .dataframe tbody tr th:only-of-type {\n",
              "        vertical-align: middle;\n",
              "    }\n",
              "\n",
              "    .dataframe tbody tr th {\n",
              "        vertical-align: top;\n",
              "    }\n",
              "\n",
              "    .dataframe thead th {\n",
              "        text-align: right;\n",
              "    }\n",
              "</style>\n",
              "<table border=\"1\" class=\"dataframe\">\n",
              "  <thead>\n",
              "    <tr style=\"text-align: right;\">\n",
              "      <th></th>\n",
              "      <th>alcohol</th>\n",
              "      <th>malic_acid</th>\n",
              "      <th>alcalinity_of_ash</th>\n",
              "      <th>magnesium</th>\n",
              "      <th>falavanoids</th>\n",
              "      <th>proanthocyanins</th>\n",
              "      <th>hue</th>\n",
              "    </tr>\n",
              "  </thead>\n",
              "  <tbody>\n",
              "    <tr>\n",
              "      <th>0</th>\n",
              "      <td>14.23</td>\n",
              "      <td>1.71</td>\n",
              "      <td>15.6</td>\n",
              "      <td>127</td>\n",
              "      <td>3.06</td>\n",
              "      <td>2.29</td>\n",
              "      <td>1.04</td>\n",
              "    </tr>\n",
              "    <tr>\n",
              "      <th>1</th>\n",
              "      <td>13.20</td>\n",
              "      <td>1.78</td>\n",
              "      <td>11.2</td>\n",
              "      <td>100</td>\n",
              "      <td>2.76</td>\n",
              "      <td>1.28</td>\n",
              "      <td>1.05</td>\n",
              "    </tr>\n",
              "    <tr>\n",
              "      <th>2</th>\n",
              "      <td>13.16</td>\n",
              "      <td>2.36</td>\n",
              "      <td>18.6</td>\n",
              "      <td>101</td>\n",
              "      <td>3.24</td>\n",
              "      <td>2.81</td>\n",
              "      <td>1.03</td>\n",
              "    </tr>\n",
              "    <tr>\n",
              "      <th>3</th>\n",
              "      <td>14.37</td>\n",
              "      <td>1.95</td>\n",
              "      <td>16.8</td>\n",
              "      <td>113</td>\n",
              "      <td>3.49</td>\n",
              "      <td>2.18</td>\n",
              "      <td>0.86</td>\n",
              "    </tr>\n",
              "    <tr>\n",
              "      <th>4</th>\n",
              "      <td>13.24</td>\n",
              "      <td>2.59</td>\n",
              "      <td>21.0</td>\n",
              "      <td>118</td>\n",
              "      <td>2.69</td>\n",
              "      <td>1.82</td>\n",
              "      <td>1.04</td>\n",
              "    </tr>\n",
              "  </tbody>\n",
              "</table>\n",
              "</div>"
            ],
            "text/plain": [
              "   alcohol  malic_acid  alcalinity_of_ash  ...  falavanoids  proanthocyanins   hue\n",
              "0    14.23        1.71               15.6  ...         3.06             2.29  1.04\n",
              "1    13.20        1.78               11.2  ...         2.76             1.28  1.05\n",
              "2    13.16        2.36               18.6  ...         3.24             2.81  1.03\n",
              "3    14.37        1.95               16.8  ...         3.49             2.18  0.86\n",
              "4    13.24        2.59               21.0  ...         2.69             1.82  1.04\n",
              "\n",
              "[5 rows x 7 columns]"
            ]
          },
          "metadata": {},
          "execution_count": 35
        }
      ]
    },
    {
      "cell_type": "markdown",
      "metadata": {
        "id": "ACpIClT5jVtQ"
      },
      "source": [
        "### Step 6. Set the values of the first 3 rows from alcohol as NaN"
      ]
    },
    {
      "cell_type": "code",
      "metadata": {
        "id": "jq7JzhPqjVtQ",
        "colab": {
          "base_uri": "https://localhost:8080/"
        },
        "outputId": "4ace8ea8-bcf4-42d5-a339-5e21803844a4"
      },
      "source": [
        "wine.alcohol.iloc[:3] = np.nan"
      ],
      "execution_count": null,
      "outputs": [
        {
          "output_type": "stream",
          "name": "stderr",
          "text": [
            "/usr/local/lib/python3.7/dist-packages/pandas/core/indexing.py:670: SettingWithCopyWarning: \n",
            "A value is trying to be set on a copy of a slice from a DataFrame\n",
            "\n",
            "See the caveats in the documentation: https://pandas.pydata.org/pandas-docs/stable/user_guide/indexing.html#returning-a-view-versus-a-copy\n",
            "  iloc._setitem_with_indexer(indexer, value)\n"
          ]
        }
      ]
    },
    {
      "cell_type": "markdown",
      "metadata": {
        "id": "j1YsgjuDjVtQ"
      },
      "source": [
        "### Step 7. Now set the value of the rows 3 and 4 of magnesium as NaN"
      ]
    },
    {
      "cell_type": "code",
      "metadata": {
        "id": "XItjOIGIjVtR",
        "colab": {
          "base_uri": "https://localhost:8080/"
        },
        "outputId": "5396a5e5-a3bf-4517-9464-91340651735e"
      },
      "source": [
        "wine.magnesium.iloc[3:5] = np.nan"
      ],
      "execution_count": null,
      "outputs": [
        {
          "output_type": "stream",
          "name": "stderr",
          "text": [
            "/usr/local/lib/python3.7/dist-packages/pandas/core/indexing.py:670: SettingWithCopyWarning: \n",
            "A value is trying to be set on a copy of a slice from a DataFrame\n",
            "\n",
            "See the caveats in the documentation: https://pandas.pydata.org/pandas-docs/stable/user_guide/indexing.html#returning-a-view-versus-a-copy\n",
            "  iloc._setitem_with_indexer(indexer, value)\n"
          ]
        }
      ]
    },
    {
      "cell_type": "markdown",
      "metadata": {
        "id": "CqhAo7y4jVtR"
      },
      "source": [
        "### Step 8. Fill the value of NaN with the number 10 in alcohol and 100 in magnesium"
      ]
    },
    {
      "cell_type": "code",
      "metadata": {
        "id": "QF9ppu4YjVtR",
        "colab": {
          "base_uri": "https://localhost:8080/",
          "height": 204
        },
        "outputId": "bdfd51a6-4df3-4cf7-fc45-517eea5991c6"
      },
      "source": [
        "wine.alcohol.fillna(10, inplace=True)\n",
        "wine.magnesium.fillna(100, inplace=True)\n",
        "wine.head()"
      ],
      "execution_count": null,
      "outputs": [
        {
          "output_type": "execute_result",
          "data": {
            "text/html": [
              "<div>\n",
              "<style scoped>\n",
              "    .dataframe tbody tr th:only-of-type {\n",
              "        vertical-align: middle;\n",
              "    }\n",
              "\n",
              "    .dataframe tbody tr th {\n",
              "        vertical-align: top;\n",
              "    }\n",
              "\n",
              "    .dataframe thead th {\n",
              "        text-align: right;\n",
              "    }\n",
              "</style>\n",
              "<table border=\"1\" class=\"dataframe\">\n",
              "  <thead>\n",
              "    <tr style=\"text-align: right;\">\n",
              "      <th></th>\n",
              "      <th>alcohol</th>\n",
              "      <th>malic_acid</th>\n",
              "      <th>alcalinity_of_ash</th>\n",
              "      <th>magnesium</th>\n",
              "      <th>falavanoids</th>\n",
              "      <th>proanthocyanins</th>\n",
              "      <th>hue</th>\n",
              "    </tr>\n",
              "  </thead>\n",
              "  <tbody>\n",
              "    <tr>\n",
              "      <th>0</th>\n",
              "      <td>10.00</td>\n",
              "      <td>1.71</td>\n",
              "      <td>15.6</td>\n",
              "      <td>127.0</td>\n",
              "      <td>3.06</td>\n",
              "      <td>2.29</td>\n",
              "      <td>1.04</td>\n",
              "    </tr>\n",
              "    <tr>\n",
              "      <th>1</th>\n",
              "      <td>10.00</td>\n",
              "      <td>1.78</td>\n",
              "      <td>11.2</td>\n",
              "      <td>100.0</td>\n",
              "      <td>2.76</td>\n",
              "      <td>1.28</td>\n",
              "      <td>1.05</td>\n",
              "    </tr>\n",
              "    <tr>\n",
              "      <th>2</th>\n",
              "      <td>10.00</td>\n",
              "      <td>2.36</td>\n",
              "      <td>18.6</td>\n",
              "      <td>101.0</td>\n",
              "      <td>3.24</td>\n",
              "      <td>2.81</td>\n",
              "      <td>1.03</td>\n",
              "    </tr>\n",
              "    <tr>\n",
              "      <th>3</th>\n",
              "      <td>14.37</td>\n",
              "      <td>1.95</td>\n",
              "      <td>16.8</td>\n",
              "      <td>100.0</td>\n",
              "      <td>3.49</td>\n",
              "      <td>2.18</td>\n",
              "      <td>0.86</td>\n",
              "    </tr>\n",
              "    <tr>\n",
              "      <th>4</th>\n",
              "      <td>13.24</td>\n",
              "      <td>2.59</td>\n",
              "      <td>21.0</td>\n",
              "      <td>100.0</td>\n",
              "      <td>2.69</td>\n",
              "      <td>1.82</td>\n",
              "      <td>1.04</td>\n",
              "    </tr>\n",
              "  </tbody>\n",
              "</table>\n",
              "</div>"
            ],
            "text/plain": [
              "   alcohol  malic_acid  alcalinity_of_ash  ...  falavanoids  proanthocyanins   hue\n",
              "0    10.00        1.71               15.6  ...         3.06             2.29  1.04\n",
              "1    10.00        1.78               11.2  ...         2.76             1.28  1.05\n",
              "2    10.00        2.36               18.6  ...         3.24             2.81  1.03\n",
              "3    14.37        1.95               16.8  ...         3.49             2.18  0.86\n",
              "4    13.24        2.59               21.0  ...         2.69             1.82  1.04\n",
              "\n",
              "[5 rows x 7 columns]"
            ]
          },
          "metadata": {},
          "execution_count": 38
        }
      ]
    },
    {
      "cell_type": "markdown",
      "metadata": {
        "id": "5Ry45iWejVtR"
      },
      "source": [
        "### Step 9. Count the number of missing values"
      ]
    },
    {
      "cell_type": "code",
      "metadata": {
        "id": "SMA1z5XCjVtS",
        "colab": {
          "base_uri": "https://localhost:8080/"
        },
        "outputId": "28def567-fdab-49f9-c3ea-497e6f337d9a"
      },
      "source": [
        "wine.isnull().sum()"
      ],
      "execution_count": null,
      "outputs": [
        {
          "output_type": "execute_result",
          "data": {
            "text/plain": [
              "alcohol              0\n",
              "malic_acid           0\n",
              "alcalinity_of_ash    0\n",
              "magnesium            0\n",
              "falavanoids          0\n",
              "proanthocyanins      0\n",
              "hue                  0\n",
              "dtype: int64"
            ]
          },
          "metadata": {},
          "execution_count": 39
        }
      ]
    },
    {
      "cell_type": "markdown",
      "metadata": {
        "id": "oUaYMnrPjVtS"
      },
      "source": [
        "### Step 10.  Create an array of 10 random numbers up until 10"
      ]
    },
    {
      "cell_type": "code",
      "metadata": {
        "id": "x4ry6kN8jVtS",
        "colab": {
          "base_uri": "https://localhost:8080/"
        },
        "outputId": "fe020a96-1f40-44e5-a901-d8880c7be11c"
      },
      "source": [
        "random = np.random.randint(0, 10, size=10)\n",
        "random"
      ],
      "execution_count": null,
      "outputs": [
        {
          "output_type": "execute_result",
          "data": {
            "text/plain": [
              "array([7, 1, 2, 1, 8, 3, 4, 9, 3, 4])"
            ]
          },
          "metadata": {},
          "execution_count": 40
        }
      ]
    },
    {
      "cell_type": "markdown",
      "metadata": {
        "id": "WXFWPYpWjVtS"
      },
      "source": [
        "### Step 11.  Use random numbers you generated as an index and assign NaN value to each of cell."
      ]
    },
    {
      "cell_type": "code",
      "metadata": {
        "id": "vaBhFg3mjVtS"
      },
      "source": [
        "wine.alcohol[random] = np.nan"
      ],
      "execution_count": null,
      "outputs": []
    },
    {
      "cell_type": "markdown",
      "metadata": {
        "id": "t-MT5v8fjVtT"
      },
      "source": [
        "### Step 12.  How many missing values do we have?"
      ]
    },
    {
      "cell_type": "code",
      "metadata": {
        "id": "6fPgJH7ijVtT",
        "colab": {
          "base_uri": "https://localhost:8080/"
        },
        "outputId": "832a4a5d-023b-44ac-8ec7-5ee74fa1a397"
      },
      "source": [
        "wine.isnull().sum()"
      ],
      "execution_count": null,
      "outputs": [
        {
          "output_type": "execute_result",
          "data": {
            "text/plain": [
              "alcohol              7\n",
              "malic_acid           0\n",
              "alcalinity_of_ash    0\n",
              "magnesium            0\n",
              "falavanoids          0\n",
              "proanthocyanins      0\n",
              "hue                  0\n",
              "dtype: int64"
            ]
          },
          "metadata": {},
          "execution_count": 42
        }
      ]
    },
    {
      "cell_type": "markdown",
      "metadata": {
        "id": "VxG2vvjqjVtT"
      },
      "source": [
        "### Step 13. Delete the rows that contain missing values"
      ]
    },
    {
      "cell_type": "code",
      "metadata": {
        "id": "JTUFNRbFjVtT"
      },
      "source": [
        "wine.dropna(inplace=True)"
      ],
      "execution_count": null,
      "outputs": []
    },
    {
      "cell_type": "markdown",
      "metadata": {
        "id": "Sugid5sKjVtT"
      },
      "source": [
        "### Step 14. Print only the non-null values in alcohol"
      ]
    },
    {
      "cell_type": "code",
      "metadata": {
        "id": "ev4hswE9jVtT",
        "colab": {
          "base_uri": "https://localhost:8080/",
          "height": 419
        },
        "outputId": "79c7977a-c470-4756-f5fd-874a34a7a7ff"
      },
      "source": [
        "wine[wine.alcohol.notnull()]"
      ],
      "execution_count": null,
      "outputs": [
        {
          "output_type": "execute_result",
          "data": {
            "text/html": [
              "<div>\n",
              "<style scoped>\n",
              "    .dataframe tbody tr th:only-of-type {\n",
              "        vertical-align: middle;\n",
              "    }\n",
              "\n",
              "    .dataframe tbody tr th {\n",
              "        vertical-align: top;\n",
              "    }\n",
              "\n",
              "    .dataframe thead th {\n",
              "        text-align: right;\n",
              "    }\n",
              "</style>\n",
              "<table border=\"1\" class=\"dataframe\">\n",
              "  <thead>\n",
              "    <tr style=\"text-align: right;\">\n",
              "      <th></th>\n",
              "      <th>alcohol</th>\n",
              "      <th>malic_acid</th>\n",
              "      <th>alcalinity_of_ash</th>\n",
              "      <th>magnesium</th>\n",
              "      <th>falavanoids</th>\n",
              "      <th>proanthocyanins</th>\n",
              "      <th>hue</th>\n",
              "    </tr>\n",
              "  </thead>\n",
              "  <tbody>\n",
              "    <tr>\n",
              "      <th>0</th>\n",
              "      <td>10.00</td>\n",
              "      <td>1.71</td>\n",
              "      <td>15.6</td>\n",
              "      <td>127.0</td>\n",
              "      <td>3.06</td>\n",
              "      <td>2.29</td>\n",
              "      <td>1.04</td>\n",
              "    </tr>\n",
              "    <tr>\n",
              "      <th>5</th>\n",
              "      <td>14.20</td>\n",
              "      <td>1.76</td>\n",
              "      <td>15.2</td>\n",
              "      <td>112.0</td>\n",
              "      <td>3.39</td>\n",
              "      <td>1.97</td>\n",
              "      <td>1.05</td>\n",
              "    </tr>\n",
              "    <tr>\n",
              "      <th>6</th>\n",
              "      <td>14.39</td>\n",
              "      <td>1.87</td>\n",
              "      <td>14.6</td>\n",
              "      <td>96.0</td>\n",
              "      <td>2.52</td>\n",
              "      <td>1.98</td>\n",
              "      <td>1.02</td>\n",
              "    </tr>\n",
              "    <tr>\n",
              "      <th>10</th>\n",
              "      <td>14.10</td>\n",
              "      <td>2.16</td>\n",
              "      <td>18.0</td>\n",
              "      <td>105.0</td>\n",
              "      <td>3.32</td>\n",
              "      <td>2.38</td>\n",
              "      <td>1.25</td>\n",
              "    </tr>\n",
              "    <tr>\n",
              "      <th>11</th>\n",
              "      <td>14.12</td>\n",
              "      <td>1.48</td>\n",
              "      <td>16.8</td>\n",
              "      <td>95.0</td>\n",
              "      <td>2.43</td>\n",
              "      <td>1.57</td>\n",
              "      <td>1.17</td>\n",
              "    </tr>\n",
              "    <tr>\n",
              "      <th>...</th>\n",
              "      <td>...</td>\n",
              "      <td>...</td>\n",
              "      <td>...</td>\n",
              "      <td>...</td>\n",
              "      <td>...</td>\n",
              "      <td>...</td>\n",
              "      <td>...</td>\n",
              "    </tr>\n",
              "    <tr>\n",
              "      <th>173</th>\n",
              "      <td>13.71</td>\n",
              "      <td>5.65</td>\n",
              "      <td>20.5</td>\n",
              "      <td>95.0</td>\n",
              "      <td>0.61</td>\n",
              "      <td>1.06</td>\n",
              "      <td>0.64</td>\n",
              "    </tr>\n",
              "    <tr>\n",
              "      <th>174</th>\n",
              "      <td>13.40</td>\n",
              "      <td>3.91</td>\n",
              "      <td>23.0</td>\n",
              "      <td>102.0</td>\n",
              "      <td>0.75</td>\n",
              "      <td>1.41</td>\n",
              "      <td>0.70</td>\n",
              "    </tr>\n",
              "    <tr>\n",
              "      <th>175</th>\n",
              "      <td>13.27</td>\n",
              "      <td>4.28</td>\n",
              "      <td>20.0</td>\n",
              "      <td>120.0</td>\n",
              "      <td>0.69</td>\n",
              "      <td>1.35</td>\n",
              "      <td>0.59</td>\n",
              "    </tr>\n",
              "    <tr>\n",
              "      <th>176</th>\n",
              "      <td>13.17</td>\n",
              "      <td>2.59</td>\n",
              "      <td>20.0</td>\n",
              "      <td>120.0</td>\n",
              "      <td>0.68</td>\n",
              "      <td>1.46</td>\n",
              "      <td>0.60</td>\n",
              "    </tr>\n",
              "    <tr>\n",
              "      <th>177</th>\n",
              "      <td>14.13</td>\n",
              "      <td>4.10</td>\n",
              "      <td>24.5</td>\n",
              "      <td>96.0</td>\n",
              "      <td>0.76</td>\n",
              "      <td>1.35</td>\n",
              "      <td>0.61</td>\n",
              "    </tr>\n",
              "  </tbody>\n",
              "</table>\n",
              "<p>171 rows × 7 columns</p>\n",
              "</div>"
            ],
            "text/plain": [
              "     alcohol  malic_acid  alcalinity_of_ash  ...  falavanoids  proanthocyanins   hue\n",
              "0      10.00        1.71               15.6  ...         3.06             2.29  1.04\n",
              "5      14.20        1.76               15.2  ...         3.39             1.97  1.05\n",
              "6      14.39        1.87               14.6  ...         2.52             1.98  1.02\n",
              "10     14.10        2.16               18.0  ...         3.32             2.38  1.25\n",
              "11     14.12        1.48               16.8  ...         2.43             1.57  1.17\n",
              "..       ...         ...                ...  ...          ...              ...   ...\n",
              "173    13.71        5.65               20.5  ...         0.61             1.06  0.64\n",
              "174    13.40        3.91               23.0  ...         0.75             1.41  0.70\n",
              "175    13.27        4.28               20.0  ...         0.69             1.35  0.59\n",
              "176    13.17        2.59               20.0  ...         0.68             1.46  0.60\n",
              "177    14.13        4.10               24.5  ...         0.76             1.35  0.61\n",
              "\n",
              "[171 rows x 7 columns]"
            ]
          },
          "metadata": {},
          "execution_count": 44
        }
      ]
    },
    {
      "cell_type": "code",
      "metadata": {
        "collapsed": true,
        "id": "YTpyo7NujVtT"
      },
      "source": [
        ""
      ],
      "execution_count": null,
      "outputs": []
    },
    {
      "cell_type": "markdown",
      "metadata": {
        "id": "BFA-zPzajVtT"
      },
      "source": [
        "### Step 15.  Reset the index, so it starts with 0 again"
      ]
    },
    {
      "cell_type": "code",
      "metadata": {
        "id": "u_tL6uaVjVtT",
        "colab": {
          "base_uri": "https://localhost:8080/",
          "height": 419
        },
        "outputId": "505cb704-d7cc-45ba-c51b-2dd847025574"
      },
      "source": [
        "wine.reset_index(inplace=True, drop=True)\n",
        "wine"
      ],
      "execution_count": null,
      "outputs": [
        {
          "output_type": "execute_result",
          "data": {
            "text/html": [
              "<div>\n",
              "<style scoped>\n",
              "    .dataframe tbody tr th:only-of-type {\n",
              "        vertical-align: middle;\n",
              "    }\n",
              "\n",
              "    .dataframe tbody tr th {\n",
              "        vertical-align: top;\n",
              "    }\n",
              "\n",
              "    .dataframe thead th {\n",
              "        text-align: right;\n",
              "    }\n",
              "</style>\n",
              "<table border=\"1\" class=\"dataframe\">\n",
              "  <thead>\n",
              "    <tr style=\"text-align: right;\">\n",
              "      <th></th>\n",
              "      <th>alcohol</th>\n",
              "      <th>malic_acid</th>\n",
              "      <th>alcalinity_of_ash</th>\n",
              "      <th>magnesium</th>\n",
              "      <th>falavanoids</th>\n",
              "      <th>proanthocyanins</th>\n",
              "      <th>hue</th>\n",
              "    </tr>\n",
              "  </thead>\n",
              "  <tbody>\n",
              "    <tr>\n",
              "      <th>0</th>\n",
              "      <td>10.00</td>\n",
              "      <td>1.71</td>\n",
              "      <td>15.6</td>\n",
              "      <td>127.0</td>\n",
              "      <td>3.06</td>\n",
              "      <td>2.29</td>\n",
              "      <td>1.04</td>\n",
              "    </tr>\n",
              "    <tr>\n",
              "      <th>1</th>\n",
              "      <td>14.20</td>\n",
              "      <td>1.76</td>\n",
              "      <td>15.2</td>\n",
              "      <td>112.0</td>\n",
              "      <td>3.39</td>\n",
              "      <td>1.97</td>\n",
              "      <td>1.05</td>\n",
              "    </tr>\n",
              "    <tr>\n",
              "      <th>2</th>\n",
              "      <td>14.39</td>\n",
              "      <td>1.87</td>\n",
              "      <td>14.6</td>\n",
              "      <td>96.0</td>\n",
              "      <td>2.52</td>\n",
              "      <td>1.98</td>\n",
              "      <td>1.02</td>\n",
              "    </tr>\n",
              "    <tr>\n",
              "      <th>3</th>\n",
              "      <td>14.10</td>\n",
              "      <td>2.16</td>\n",
              "      <td>18.0</td>\n",
              "      <td>105.0</td>\n",
              "      <td>3.32</td>\n",
              "      <td>2.38</td>\n",
              "      <td>1.25</td>\n",
              "    </tr>\n",
              "    <tr>\n",
              "      <th>4</th>\n",
              "      <td>14.12</td>\n",
              "      <td>1.48</td>\n",
              "      <td>16.8</td>\n",
              "      <td>95.0</td>\n",
              "      <td>2.43</td>\n",
              "      <td>1.57</td>\n",
              "      <td>1.17</td>\n",
              "    </tr>\n",
              "    <tr>\n",
              "      <th>...</th>\n",
              "      <td>...</td>\n",
              "      <td>...</td>\n",
              "      <td>...</td>\n",
              "      <td>...</td>\n",
              "      <td>...</td>\n",
              "      <td>...</td>\n",
              "      <td>...</td>\n",
              "    </tr>\n",
              "    <tr>\n",
              "      <th>166</th>\n",
              "      <td>13.71</td>\n",
              "      <td>5.65</td>\n",
              "      <td>20.5</td>\n",
              "      <td>95.0</td>\n",
              "      <td>0.61</td>\n",
              "      <td>1.06</td>\n",
              "      <td>0.64</td>\n",
              "    </tr>\n",
              "    <tr>\n",
              "      <th>167</th>\n",
              "      <td>13.40</td>\n",
              "      <td>3.91</td>\n",
              "      <td>23.0</td>\n",
              "      <td>102.0</td>\n",
              "      <td>0.75</td>\n",
              "      <td>1.41</td>\n",
              "      <td>0.70</td>\n",
              "    </tr>\n",
              "    <tr>\n",
              "      <th>168</th>\n",
              "      <td>13.27</td>\n",
              "      <td>4.28</td>\n",
              "      <td>20.0</td>\n",
              "      <td>120.0</td>\n",
              "      <td>0.69</td>\n",
              "      <td>1.35</td>\n",
              "      <td>0.59</td>\n",
              "    </tr>\n",
              "    <tr>\n",
              "      <th>169</th>\n",
              "      <td>13.17</td>\n",
              "      <td>2.59</td>\n",
              "      <td>20.0</td>\n",
              "      <td>120.0</td>\n",
              "      <td>0.68</td>\n",
              "      <td>1.46</td>\n",
              "      <td>0.60</td>\n",
              "    </tr>\n",
              "    <tr>\n",
              "      <th>170</th>\n",
              "      <td>14.13</td>\n",
              "      <td>4.10</td>\n",
              "      <td>24.5</td>\n",
              "      <td>96.0</td>\n",
              "      <td>0.76</td>\n",
              "      <td>1.35</td>\n",
              "      <td>0.61</td>\n",
              "    </tr>\n",
              "  </tbody>\n",
              "</table>\n",
              "<p>171 rows × 7 columns</p>\n",
              "</div>"
            ],
            "text/plain": [
              "     alcohol  malic_acid  alcalinity_of_ash  ...  falavanoids  proanthocyanins   hue\n",
              "0      10.00        1.71               15.6  ...         3.06             2.29  1.04\n",
              "1      14.20        1.76               15.2  ...         3.39             1.97  1.05\n",
              "2      14.39        1.87               14.6  ...         2.52             1.98  1.02\n",
              "3      14.10        2.16               18.0  ...         3.32             2.38  1.25\n",
              "4      14.12        1.48               16.8  ...         2.43             1.57  1.17\n",
              "..       ...         ...                ...  ...          ...              ...   ...\n",
              "166    13.71        5.65               20.5  ...         0.61             1.06  0.64\n",
              "167    13.40        3.91               23.0  ...         0.75             1.41  0.70\n",
              "168    13.27        4.28               20.0  ...         0.69             1.35  0.59\n",
              "169    13.17        2.59               20.0  ...         0.68             1.46  0.60\n",
              "170    14.13        4.10               24.5  ...         0.76             1.35  0.61\n",
              "\n",
              "[171 rows x 7 columns]"
            ]
          },
          "metadata": {},
          "execution_count": 45
        }
      ]
    },
    {
      "cell_type": "markdown",
      "metadata": {
        "id": "J-SIhasojVtU"
      },
      "source": [
        "### BONUS: Create your own question and answer it."
      ]
    },
    {
      "cell_type": "markdown",
      "metadata": {
        "id": "0v7gUGl8sTPR"
      },
      "source": [
        "## drop rows with values of alcohol between 10.5 and 12.9\n"
      ]
    },
    {
      "cell_type": "code",
      "metadata": {
        "colab": {
          "base_uri": "https://localhost:8080/",
          "height": 419
        },
        "id": "BZL1BK1pYTfN",
        "outputId": "786ef42d-9f1a-4761-9feb-9396bfbd6c41"
      },
      "source": [
        "wine"
      ],
      "execution_count": null,
      "outputs": [
        {
          "output_type": "execute_result",
          "data": {
            "text/html": [
              "<div>\n",
              "<style scoped>\n",
              "    .dataframe tbody tr th:only-of-type {\n",
              "        vertical-align: middle;\n",
              "    }\n",
              "\n",
              "    .dataframe tbody tr th {\n",
              "        vertical-align: top;\n",
              "    }\n",
              "\n",
              "    .dataframe thead th {\n",
              "        text-align: right;\n",
              "    }\n",
              "</style>\n",
              "<table border=\"1\" class=\"dataframe\">\n",
              "  <thead>\n",
              "    <tr style=\"text-align: right;\">\n",
              "      <th></th>\n",
              "      <th>alcohol</th>\n",
              "      <th>malic_acid</th>\n",
              "      <th>alcalinity_of_ash</th>\n",
              "      <th>magnesium</th>\n",
              "      <th>falavanoids</th>\n",
              "      <th>proanthocyanins</th>\n",
              "      <th>hue</th>\n",
              "    </tr>\n",
              "  </thead>\n",
              "  <tbody>\n",
              "    <tr>\n",
              "      <th>0</th>\n",
              "      <td>10.00</td>\n",
              "      <td>1.71</td>\n",
              "      <td>15.6</td>\n",
              "      <td>127.0</td>\n",
              "      <td>3.06</td>\n",
              "      <td>2.29</td>\n",
              "      <td>1.04</td>\n",
              "    </tr>\n",
              "    <tr>\n",
              "      <th>1</th>\n",
              "      <td>14.20</td>\n",
              "      <td>1.76</td>\n",
              "      <td>15.2</td>\n",
              "      <td>112.0</td>\n",
              "      <td>3.39</td>\n",
              "      <td>1.97</td>\n",
              "      <td>1.05</td>\n",
              "    </tr>\n",
              "    <tr>\n",
              "      <th>2</th>\n",
              "      <td>14.39</td>\n",
              "      <td>1.87</td>\n",
              "      <td>14.6</td>\n",
              "      <td>96.0</td>\n",
              "      <td>2.52</td>\n",
              "      <td>1.98</td>\n",
              "      <td>1.02</td>\n",
              "    </tr>\n",
              "    <tr>\n",
              "      <th>3</th>\n",
              "      <td>14.10</td>\n",
              "      <td>2.16</td>\n",
              "      <td>18.0</td>\n",
              "      <td>105.0</td>\n",
              "      <td>3.32</td>\n",
              "      <td>2.38</td>\n",
              "      <td>1.25</td>\n",
              "    </tr>\n",
              "    <tr>\n",
              "      <th>4</th>\n",
              "      <td>14.12</td>\n",
              "      <td>1.48</td>\n",
              "      <td>16.8</td>\n",
              "      <td>95.0</td>\n",
              "      <td>2.43</td>\n",
              "      <td>1.57</td>\n",
              "      <td>1.17</td>\n",
              "    </tr>\n",
              "    <tr>\n",
              "      <th>...</th>\n",
              "      <td>...</td>\n",
              "      <td>...</td>\n",
              "      <td>...</td>\n",
              "      <td>...</td>\n",
              "      <td>...</td>\n",
              "      <td>...</td>\n",
              "      <td>...</td>\n",
              "    </tr>\n",
              "    <tr>\n",
              "      <th>166</th>\n",
              "      <td>13.71</td>\n",
              "      <td>5.65</td>\n",
              "      <td>20.5</td>\n",
              "      <td>95.0</td>\n",
              "      <td>0.61</td>\n",
              "      <td>1.06</td>\n",
              "      <td>0.64</td>\n",
              "    </tr>\n",
              "    <tr>\n",
              "      <th>167</th>\n",
              "      <td>13.40</td>\n",
              "      <td>3.91</td>\n",
              "      <td>23.0</td>\n",
              "      <td>102.0</td>\n",
              "      <td>0.75</td>\n",
              "      <td>1.41</td>\n",
              "      <td>0.70</td>\n",
              "    </tr>\n",
              "    <tr>\n",
              "      <th>168</th>\n",
              "      <td>13.27</td>\n",
              "      <td>4.28</td>\n",
              "      <td>20.0</td>\n",
              "      <td>120.0</td>\n",
              "      <td>0.69</td>\n",
              "      <td>1.35</td>\n",
              "      <td>0.59</td>\n",
              "    </tr>\n",
              "    <tr>\n",
              "      <th>169</th>\n",
              "      <td>13.17</td>\n",
              "      <td>2.59</td>\n",
              "      <td>20.0</td>\n",
              "      <td>120.0</td>\n",
              "      <td>0.68</td>\n",
              "      <td>1.46</td>\n",
              "      <td>0.60</td>\n",
              "    </tr>\n",
              "    <tr>\n",
              "      <th>170</th>\n",
              "      <td>14.13</td>\n",
              "      <td>4.10</td>\n",
              "      <td>24.5</td>\n",
              "      <td>96.0</td>\n",
              "      <td>0.76</td>\n",
              "      <td>1.35</td>\n",
              "      <td>0.61</td>\n",
              "    </tr>\n",
              "  </tbody>\n",
              "</table>\n",
              "<p>171 rows × 7 columns</p>\n",
              "</div>"
            ],
            "text/plain": [
              "     alcohol  malic_acid  alcalinity_of_ash  ...  falavanoids  proanthocyanins   hue\n",
              "0      10.00        1.71               15.6  ...         3.06             2.29  1.04\n",
              "1      14.20        1.76               15.2  ...         3.39             1.97  1.05\n",
              "2      14.39        1.87               14.6  ...         2.52             1.98  1.02\n",
              "3      14.10        2.16               18.0  ...         3.32             2.38  1.25\n",
              "4      14.12        1.48               16.8  ...         2.43             1.57  1.17\n",
              "..       ...         ...                ...  ...          ...              ...   ...\n",
              "166    13.71        5.65               20.5  ...         0.61             1.06  0.64\n",
              "167    13.40        3.91               23.0  ...         0.75             1.41  0.70\n",
              "168    13.27        4.28               20.0  ...         0.69             1.35  0.59\n",
              "169    13.17        2.59               20.0  ...         0.68             1.46  0.60\n",
              "170    14.13        4.10               24.5  ...         0.76             1.35  0.61\n",
              "\n",
              "[171 rows x 7 columns]"
            ]
          },
          "metadata": {},
          "execution_count": 46
        }
      ]
    },
    {
      "cell_type": "code",
      "metadata": {
        "colab": {
          "base_uri": "https://localhost:8080/",
          "height": 419
        },
        "id": "7WnUKG5csUg1",
        "outputId": "a46674b3-8265-449d-93a0-654b506deb62"
      },
      "source": [
        "mask = wine.alcohol.between(10.5, 12.9)\n",
        "wine = wine[mask]\n",
        "wine"
      ],
      "execution_count": null,
      "outputs": [
        {
          "output_type": "execute_result",
          "data": {
            "text/html": [
              "<div>\n",
              "<style scoped>\n",
              "    .dataframe tbody tr th:only-of-type {\n",
              "        vertical-align: middle;\n",
              "    }\n",
              "\n",
              "    .dataframe tbody tr th {\n",
              "        vertical-align: top;\n",
              "    }\n",
              "\n",
              "    .dataframe thead th {\n",
              "        text-align: right;\n",
              "    }\n",
              "</style>\n",
              "<table border=\"1\" class=\"dataframe\">\n",
              "  <thead>\n",
              "    <tr style=\"text-align: right;\">\n",
              "      <th></th>\n",
              "      <th>alcohol</th>\n",
              "      <th>malic_acid</th>\n",
              "      <th>alcalinity_of_ash</th>\n",
              "      <th>magnesium</th>\n",
              "      <th>falavanoids</th>\n",
              "      <th>proanthocyanins</th>\n",
              "      <th>hue</th>\n",
              "    </tr>\n",
              "  </thead>\n",
              "  <tbody>\n",
              "    <tr>\n",
              "      <th>16</th>\n",
              "      <td>12.85</td>\n",
              "      <td>1.60</td>\n",
              "      <td>17.8</td>\n",
              "      <td>95.0</td>\n",
              "      <td>2.37</td>\n",
              "      <td>1.46</td>\n",
              "      <td>1.09</td>\n",
              "    </tr>\n",
              "    <tr>\n",
              "      <th>52</th>\n",
              "      <td>12.37</td>\n",
              "      <td>0.94</td>\n",
              "      <td>10.6</td>\n",
              "      <td>88.0</td>\n",
              "      <td>0.57</td>\n",
              "      <td>0.42</td>\n",
              "      <td>1.05</td>\n",
              "    </tr>\n",
              "    <tr>\n",
              "      <th>53</th>\n",
              "      <td>12.33</td>\n",
              "      <td>1.10</td>\n",
              "      <td>16.0</td>\n",
              "      <td>101.0</td>\n",
              "      <td>1.09</td>\n",
              "      <td>0.41</td>\n",
              "      <td>1.25</td>\n",
              "    </tr>\n",
              "    <tr>\n",
              "      <th>54</th>\n",
              "      <td>12.64</td>\n",
              "      <td>1.36</td>\n",
              "      <td>16.8</td>\n",
              "      <td>100.0</td>\n",
              "      <td>1.41</td>\n",
              "      <td>0.62</td>\n",
              "      <td>0.98</td>\n",
              "    </tr>\n",
              "    <tr>\n",
              "      <th>56</th>\n",
              "      <td>12.37</td>\n",
              "      <td>1.13</td>\n",
              "      <td>19.0</td>\n",
              "      <td>87.0</td>\n",
              "      <td>3.10</td>\n",
              "      <td>1.87</td>\n",
              "      <td>1.22</td>\n",
              "    </tr>\n",
              "    <tr>\n",
              "      <th>...</th>\n",
              "      <td>...</td>\n",
              "      <td>...</td>\n",
              "      <td>...</td>\n",
              "      <td>...</td>\n",
              "      <td>...</td>\n",
              "      <td>...</td>\n",
              "      <td>...</td>\n",
              "    </tr>\n",
              "    <tr>\n",
              "      <th>153</th>\n",
              "      <td>12.36</td>\n",
              "      <td>3.83</td>\n",
              "      <td>21.0</td>\n",
              "      <td>88.0</td>\n",
              "      <td>0.92</td>\n",
              "      <td>1.04</td>\n",
              "      <td>0.56</td>\n",
              "    </tr>\n",
              "    <tr>\n",
              "      <th>155</th>\n",
              "      <td>12.85</td>\n",
              "      <td>3.27</td>\n",
              "      <td>22.0</td>\n",
              "      <td>106.0</td>\n",
              "      <td>0.60</td>\n",
              "      <td>0.96</td>\n",
              "      <td>0.87</td>\n",
              "    </tr>\n",
              "    <tr>\n",
              "      <th>160</th>\n",
              "      <td>12.82</td>\n",
              "      <td>3.37</td>\n",
              "      <td>19.5</td>\n",
              "      <td>88.0</td>\n",
              "      <td>0.66</td>\n",
              "      <td>0.97</td>\n",
              "      <td>0.72</td>\n",
              "    </tr>\n",
              "    <tr>\n",
              "      <th>163</th>\n",
              "      <td>12.20</td>\n",
              "      <td>3.03</td>\n",
              "      <td>19.0</td>\n",
              "      <td>96.0</td>\n",
              "      <td>0.49</td>\n",
              "      <td>0.73</td>\n",
              "      <td>0.66</td>\n",
              "    </tr>\n",
              "    <tr>\n",
              "      <th>164</th>\n",
              "      <td>12.77</td>\n",
              "      <td>2.39</td>\n",
              "      <td>19.5</td>\n",
              "      <td>86.0</td>\n",
              "      <td>0.51</td>\n",
              "      <td>0.64</td>\n",
              "      <td>0.57</td>\n",
              "    </tr>\n",
              "  </tbody>\n",
              "</table>\n",
              "<p>82 rows × 7 columns</p>\n",
              "</div>"
            ],
            "text/plain": [
              "     alcohol  malic_acid  alcalinity_of_ash  ...  falavanoids  proanthocyanins   hue\n",
              "16     12.85        1.60               17.8  ...         2.37             1.46  1.09\n",
              "52     12.37        0.94               10.6  ...         0.57             0.42  1.05\n",
              "53     12.33        1.10               16.0  ...         1.09             0.41  1.25\n",
              "54     12.64        1.36               16.8  ...         1.41             0.62  0.98\n",
              "56     12.37        1.13               19.0  ...         3.10             1.87  1.22\n",
              "..       ...         ...                ...  ...          ...              ...   ...\n",
              "153    12.36        3.83               21.0  ...         0.92             1.04  0.56\n",
              "155    12.85        3.27               22.0  ...         0.60             0.96  0.87\n",
              "160    12.82        3.37               19.5  ...         0.66             0.97  0.72\n",
              "163    12.20        3.03               19.0  ...         0.49             0.73  0.66\n",
              "164    12.77        2.39               19.5  ...         0.51             0.64  0.57\n",
              "\n",
              "[82 rows x 7 columns]"
            ]
          },
          "metadata": {},
          "execution_count": 47
        }
      ]
    },
    {
      "cell_type": "code",
      "metadata": {
        "id": "n4VN55qYsdH-"
      },
      "source": [
        ""
      ],
      "execution_count": null,
      "outputs": []
    }
  ]
}